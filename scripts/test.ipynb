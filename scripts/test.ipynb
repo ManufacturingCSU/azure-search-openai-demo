{
 "cells": [
  {
   "cell_type": "code",
   "execution_count": 1,
   "metadata": {},
   "outputs": [],
   "source": [
    "import logging\n",
    "import sys\n",
    "from azure.identity import DefaultAzureCredential\n",
    "\n",
    "logger = logging.getLogger('azure.identity')\n",
    "logger.setLevel(logging.INFO)\n",
    "\n",
    "handler = logging.StreamHandler(stream=sys.stdout)\n",
    "formatter = logging.Formatter('[%(levelname)s %(name)s] %(message)s')\n",
    "handler.setFormatter(formatter)\n",
    "logger.addHandler(handler)"
   ]
  },
  {
   "cell_type": "code",
   "execution_count": 2,
   "metadata": {},
   "outputs": [
    {
     "name": "stdout",
     "output_type": "stream",
     "text": [
      "[INFO azure.identity._credentials.environment] No environment configuration found.\n",
      "[INFO azure.identity._credentials.managed_identity] ManagedIdentityCredential will use IMDS\n"
     ]
    }
   ],
   "source": [
    "# cred = DefaultAzureCredential(exclude_managed_identity_credential=True)\n",
    "azure_credential = DefaultAzureCredential(managed_identity_client_id=\"70ca04b2-de52-4619-ae9c-c1f2f3d5820d\")"
   ]
  },
  {
   "cell_type": "code",
   "execution_count": 3,
   "metadata": {},
   "outputs": [],
   "source": [
    "import os\n",
    "os.getenv(\"AZURE_CLIENT_ID\")"
   ]
  },
  {
   "cell_type": "code",
   "execution_count": 4,
   "metadata": {},
   "outputs": [],
   "source": [
    "from azure.storage.blob import BlobServiceClient\n",
    "\n",
    "AZURE_STORAGE_ACCOUNT=\"steadp4seyt7blw\"\n",
    "AZURE_STORAGE_CONTAINER=\"content\"\n",
    "\n",
    "blob_client = BlobServiceClient(\n",
    "    account_url=f\"https://{AZURE_STORAGE_ACCOUNT}.blob.core.windows.net\",\n",
    "    credential=azure_credential,\n",
    ")\n",
    "blob_container = blob_client.get_container_client(AZURE_STORAGE_CONTAINER)\n"
   ]
  },
  {
   "cell_type": "code",
   "execution_count": 5,
   "metadata": {},
   "outputs": [
    {
     "name": "stdout",
     "output_type": "stream",
     "text": [
      "[INFO azure.identity._credentials.chained] DefaultAzureCredential acquired a token from AzureDeveloperCliCredential\n"
     ]
    },
    {
     "data": {
      "text/plain": [
       "[{'name': 'content', 'last_modified': datetime.datetime(2023, 3, 27, 17, 6, 35, tzinfo=datetime.timezone.utc), 'etag': '\"0x8DB2EE59EE58A4C\"', 'lease': {'status': 'unlocked', 'state': 'available', 'duration': None}, 'public_access': None, 'has_immutability_policy': False, 'deleted': None, 'version': None, 'has_legal_hold': False, 'metadata': None, 'encryption_scope': <azure.storage.blob._models.ContainerEncryptionScope object at 0x000002390A21C4C0>, 'immutable_storage_with_versioning_enabled': False},\n",
       " {'name': 'raw', 'last_modified': datetime.datetime(2023, 3, 27, 17, 6, 35, tzinfo=datetime.timezone.utc), 'etag': '\"0x8DB2EE59EE11E1C\"', 'lease': {'status': 'unlocked', 'state': 'available', 'duration': None}, 'public_access': None, 'has_immutability_policy': False, 'deleted': None, 'version': None, 'has_legal_hold': False, 'metadata': None, 'encryption_scope': <azure.storage.blob._models.ContainerEncryptionScope object at 0x000002390A21C940>, 'immutable_storage_with_versioning_enabled': False}]"
      ]
     },
     "execution_count": 5,
     "metadata": {},
     "output_type": "execute_result"
    }
   ],
   "source": [
    "list(blob_client.list_containers())"
   ]
  },
  {
   "cell_type": "code",
   "execution_count": 6,
   "metadata": {},
   "outputs": [],
   "source": [
    "from azure.search.documents import SearchClient\n",
    "AZURE_SEARCH_INDEX=\"gptkbindex\"\n",
    "AZURE_SEARCH_SERVICE=\"gptkb-eadp4seyt7blw\"\n",
    "search_client = SearchClient(\n",
    "    endpoint=f\"https://{AZURE_SEARCH_SERVICE}.search.windows.net\",\n",
    "    index_name=AZURE_SEARCH_INDEX,\n",
    "    credential=azure_credential,\n",
    ")"
   ]
  },
  {
   "cell_type": "code",
   "execution_count": 7,
   "metadata": {},
   "outputs": [],
   "source": [
    "r = search_client.search(\"test\", top=10)"
   ]
  },
  {
   "cell_type": "code",
   "execution_count": 9,
   "metadata": {},
   "outputs": [
    {
     "name": "stdout",
     "output_type": "stream",
     "text": [
      "[INFO azure.identity._credentials.default] DefaultAzureCredential acquired a token from AzureDeveloperCliCredential\n"
     ]
    },
    {
     "ename": "HttpResponseError",
     "evalue": "() Authorization failed.\nCode: \nMessage: Authorization failed.",
     "output_type": "error",
     "traceback": [
      "\u001b[1;31m---------------------------------------------------------------------------\u001b[0m",
      "\u001b[1;31mHttpResponseError\u001b[0m                         Traceback (most recent call last)",
      "Cell \u001b[1;32mIn[9], line 1\u001b[0m\n\u001b[1;32m----> 1\u001b[0m \u001b[39mlist\u001b[39;49m(r)\n",
      "File \u001b[1;32mc:\\Users\\brywilliams\\Miniconda3\\envs\\azuresearch\\lib\\site-packages\\azure\\search\\documents\\_paging.py:54\u001b[0m, in \u001b[0;36mSearchItemPaged.__next__\u001b[1;34m(self)\u001b[0m\n\u001b[0;32m     52\u001b[0m     first_iterator \u001b[39m=\u001b[39m \u001b[39mself\u001b[39m\u001b[39m.\u001b[39m_first_iterator_instance()\n\u001b[0;32m     53\u001b[0m     \u001b[39mself\u001b[39m\u001b[39m.\u001b[39m_page_iterator \u001b[39m=\u001b[39m itertools\u001b[39m.\u001b[39mchain\u001b[39m.\u001b[39mfrom_iterable(first_iterator)\n\u001b[1;32m---> 54\u001b[0m \u001b[39mreturn\u001b[39;00m \u001b[39mnext\u001b[39;49m(\u001b[39mself\u001b[39;49m\u001b[39m.\u001b[39;49m_page_iterator)\n",
      "File \u001b[1;32mc:\\Users\\brywilliams\\Miniconda3\\envs\\azuresearch\\lib\\site-packages\\azure\\core\\paging.py:76\u001b[0m, in \u001b[0;36mPageIterator.__next__\u001b[1;34m(self)\u001b[0m\n\u001b[0;32m     74\u001b[0m     \u001b[39mraise\u001b[39;00m \u001b[39mStopIteration\u001b[39;00m(\u001b[39m\"\u001b[39m\u001b[39mEnd of paging\u001b[39m\u001b[39m\"\u001b[39m)\n\u001b[0;32m     75\u001b[0m \u001b[39mtry\u001b[39;00m:\n\u001b[1;32m---> 76\u001b[0m     \u001b[39mself\u001b[39m\u001b[39m.\u001b[39m_response \u001b[39m=\u001b[39m \u001b[39mself\u001b[39;49m\u001b[39m.\u001b[39;49m_get_next(\u001b[39mself\u001b[39;49m\u001b[39m.\u001b[39;49mcontinuation_token)\n\u001b[0;32m     77\u001b[0m \u001b[39mexcept\u001b[39;00m AzureError \u001b[39mas\u001b[39;00m error:\n\u001b[0;32m     78\u001b[0m     \u001b[39mif\u001b[39;00m \u001b[39mnot\u001b[39;00m error\u001b[39m.\u001b[39mcontinuation_token:\n",
      "File \u001b[1;32mc:\\Users\\brywilliams\\Miniconda3\\envs\\azuresearch\\lib\\site-packages\\azure\\search\\documents\\_paging.py:114\u001b[0m, in \u001b[0;36mSearchPageIterator._get_next_cb\u001b[1;34m(self, continuation_token)\u001b[0m\n\u001b[0;32m    112\u001b[0m \u001b[39mdef\u001b[39;00m \u001b[39m_get_next_cb\u001b[39m(\u001b[39mself\u001b[39m, continuation_token):\n\u001b[0;32m    113\u001b[0m     \u001b[39mif\u001b[39;00m continuation_token \u001b[39mis\u001b[39;00m \u001b[39mNone\u001b[39;00m:\n\u001b[1;32m--> 114\u001b[0m         \u001b[39mreturn\u001b[39;00m \u001b[39mself\u001b[39m\u001b[39m.\u001b[39m_client\u001b[39m.\u001b[39mdocuments\u001b[39m.\u001b[39msearch_post(\n\u001b[0;32m    115\u001b[0m             search_request\u001b[39m=\u001b[39m\u001b[39mself\u001b[39m\u001b[39m.\u001b[39m_initial_query\u001b[39m.\u001b[39mrequest, \u001b[39m*\u001b[39m\u001b[39m*\u001b[39m\u001b[39mself\u001b[39m\u001b[39m.\u001b[39m_kwargs\n\u001b[0;32m    116\u001b[0m         )\n\u001b[0;32m    118\u001b[0m     _next_link, next_page_request \u001b[39m=\u001b[39m unpack_continuation_token(continuation_token)\n\u001b[0;32m    120\u001b[0m     \u001b[39mreturn\u001b[39;00m \u001b[39mself\u001b[39m\u001b[39m.\u001b[39m_client\u001b[39m.\u001b[39mdocuments\u001b[39m.\u001b[39msearch_post(\n\u001b[0;32m    121\u001b[0m         search_request\u001b[39m=\u001b[39mnext_page_request, \u001b[39m*\u001b[39m\u001b[39m*\u001b[39m\u001b[39mself\u001b[39m\u001b[39m.\u001b[39m_kwargs\n\u001b[0;32m    122\u001b[0m     )\n",
      "File \u001b[1;32mc:\\Users\\brywilliams\\Miniconda3\\envs\\azuresearch\\lib\\site-packages\\azure\\core\\tracing\\decorator.py:78\u001b[0m, in \u001b[0;36mdistributed_trace.<locals>.decorator.<locals>.wrapper_use_tracer\u001b[1;34m(*args, **kwargs)\u001b[0m\n\u001b[0;32m     76\u001b[0m span_impl_type \u001b[39m=\u001b[39m settings\u001b[39m.\u001b[39mtracing_implementation()\n\u001b[0;32m     77\u001b[0m \u001b[39mif\u001b[39;00m span_impl_type \u001b[39mis\u001b[39;00m \u001b[39mNone\u001b[39;00m:\n\u001b[1;32m---> 78\u001b[0m     \u001b[39mreturn\u001b[39;00m func(\u001b[39m*\u001b[39margs, \u001b[39m*\u001b[39m\u001b[39m*\u001b[39mkwargs)\n\u001b[0;32m     80\u001b[0m \u001b[39m# Merge span is parameter is set, but only if no explicit parent are passed\u001b[39;00m\n\u001b[0;32m     81\u001b[0m \u001b[39mif\u001b[39;00m merge_span \u001b[39mand\u001b[39;00m \u001b[39mnot\u001b[39;00m passed_in_parent:\n",
      "File \u001b[1;32mc:\\Users\\brywilliams\\Miniconda3\\envs\\azuresearch\\lib\\site-packages\\azure\\search\\documents\\_generated\\operations\\_documents_operations.py:782\u001b[0m, in \u001b[0;36mDocumentsOperations.search_post\u001b[1;34m(self, search_request, request_options, **kwargs)\u001b[0m\n\u001b[0;32m    780\u001b[0m     map_error(status_code\u001b[39m=\u001b[39mresponse\u001b[39m.\u001b[39mstatus_code, response\u001b[39m=\u001b[39mresponse, error_map\u001b[39m=\u001b[39merror_map)\n\u001b[0;32m    781\u001b[0m     error \u001b[39m=\u001b[39m \u001b[39mself\u001b[39m\u001b[39m.\u001b[39m_deserialize\u001b[39m.\u001b[39mfailsafe_deserialize(_models\u001b[39m.\u001b[39mSearchError, pipeline_response)\n\u001b[1;32m--> 782\u001b[0m     \u001b[39mraise\u001b[39;00m HttpResponseError(response\u001b[39m=\u001b[39mresponse, model\u001b[39m=\u001b[39merror)\n\u001b[0;32m    784\u001b[0m deserialized \u001b[39m=\u001b[39m \u001b[39mself\u001b[39m\u001b[39m.\u001b[39m_deserialize(\u001b[39m\"\u001b[39m\u001b[39mSearchDocumentsResult\u001b[39m\u001b[39m\"\u001b[39m, pipeline_response)\n\u001b[0;32m    786\u001b[0m \u001b[39mif\u001b[39;00m \u001b[39mcls\u001b[39m:\n",
      "\u001b[1;31mHttpResponseError\u001b[0m: () Authorization failed.\nCode: \nMessage: Authorization failed."
     ]
    }
   ],
   "source": [
    "list(r)"
   ]
  }
 ],
 "metadata": {
  "kernelspec": {
   "display_name": "azuresearch",
   "language": "python",
   "name": "python3"
  },
  "language_info": {
   "codemirror_mode": {
    "name": "ipython",
    "version": 3
   },
   "file_extension": ".py",
   "mimetype": "text/x-python",
   "name": "python",
   "nbconvert_exporter": "python",
   "pygments_lexer": "ipython3",
   "version": "3.9.16"
  },
  "orig_nbformat": 4
 },
 "nbformat": 4,
 "nbformat_minor": 2
}
